{
 "cells": [
  {
   "cell_type": "code",
   "execution_count": 2,
   "id": "e5473bed-f28b-41aa-b482-ce086d20398b",
   "metadata": {},
   "outputs": [
    {
     "name": "stdout",
     "output_type": "stream",
     "text": [
      "P   r   o   g   r   a   m   m   i   n   g   "
     ]
    }
   ],
   "source": [
    "for x in 'Programming':\n",
    "    print(x,end=\"   \")"
   ]
  },
  {
   "cell_type": "code",
   "execution_count": 6,
   "id": "54794d42-13d1-4190-bbc2-16fd8402da79",
   "metadata": {},
   "outputs": [
    {
     "name": "stdout",
     "output_type": "stream",
     "text": [
      "10,20,30\n"
     ]
    }
   ],
   "source": [
    "print(10,20,30, sep=',')"
   ]
  },
  {
   "cell_type": "code",
   "execution_count": 7,
   "id": "76e2bcec-d2c7-4ca7-b46b-74e7a58f7d51",
   "metadata": {},
   "outputs": [
    {
     "data": {
      "text/plain": [
       "6"
      ]
     },
     "execution_count": 7,
     "metadata": {},
     "output_type": "execute_result"
    }
   ],
   "source": [
    "sum([1,2,3])"
   ]
  },
  {
   "cell_type": "code",
   "execution_count": 11,
   "id": "d2a57793-bff9-4979-985a-d8b4f6a558d7",
   "metadata": {},
   "outputs": [
    {
     "name": "stdout",
     "output_type": "stream",
     "text": [
      "0     1     2     3     4     5     6     7     8     9     10     11     12     13     14     "
     ]
    }
   ],
   "source": [
    "for counter in range(15):\n",
    "    print(counter,end='     ')"
   ]
  },
  {
   "cell_type": "code",
   "execution_count": 1,
   "id": "4ed28402-be5e-45d3-8fdb-fd0466d2f74b",
   "metadata": {},
   "outputs": [],
   "source": [
    "names=['Bob','Sue','Amanda','Paul']"
   ]
  },
  {
   "cell_type": "code",
   "execution_count": 2,
   "id": "3e433daa-25bf-4c99-b2a2-5197d63b834e",
   "metadata": {},
   "outputs": [],
   "source": [
    "grade_averages=[3.5,4.0,3.75]"
   ]
  },
  {
   "cell_type": "code",
   "execution_count": 5,
   "id": "1c3d77e6-1478-4760-8aae-e38bee6ca16b",
   "metadata": {},
   "outputs": [
    {
     "name": "stdout",
     "output_type": "stream",
     "text": [
      "Name=Bob; GPA=3.5\n",
      "Name=Sue; GPA=4.0\n",
      "Name=Amanda; GPA=3.75\n"
     ]
    }
   ],
   "source": [
    "for name, gpa in zip(names, grade_averages):\n",
    "    print(f'Name={name}; GPA={gpa}')"
   ]
  },
  {
   "cell_type": "code",
   "execution_count": 6,
   "id": "436c37ab-196a-44a5-8417-7af51fb3ed24",
   "metadata": {},
   "outputs": [
    {
     "data": {
      "text/plain": [
       "[('Bob', 3.5), ('Sue', 4.0), ('Amanda', 3.75)]"
      ]
     },
     "execution_count": 6,
     "metadata": {},
     "output_type": "execute_result"
    }
   ],
   "source": [
    "list(zip(names, grade_averages))"
   ]
  },
  {
   "cell_type": "code",
   "execution_count": 1,
   "id": "c8ed6814-7e7b-4d62-8eae-223990fe96af",
   "metadata": {},
   "outputs": [],
   "source": [
    "def add (x,y):\n",
    "    return x+y\n",
    "    "
   ]
  },
  {
   "cell_type": "code",
   "execution_count": 4,
   "id": "f7172697-561f-4b5f-ac98-ae3b3015b2b4",
   "metadata": {},
   "outputs": [
    {
     "name": "stdout",
     "output_type": "stream",
     "text": [
      "total is 30\n"
     ]
    }
   ],
   "source": [
    "total=add(10,20)\n",
    "print(f\"total is {total}\")"
   ]
  },
  {
   "cell_type": "code",
   "execution_count": null,
   "id": "f8247042-d94a-42e0-8e9e-a0d66d9fcd8c",
   "metadata": {},
   "outputs": [],
   "source": [
    "import random \n",
    "x=random.randint(1,10)\n",
    "number=input(\"Please guees a number: \")\n",
    "if x<=10:\n",
    "    x=True\n",
    "\n",
    "for x in range(int(number)):\n",
    " while not x:\n",
    "    print(\"is not correct\")\n",
    "\n",
    "\n",
    "\n",
    "    \n",
    "\n"
   ]
  },
  {
   "cell_type": "code",
   "execution_count": 18,
   "id": "14be2e66-d798-409a-9f13-ab98cf0f6abd",
   "metadata": {},
   "outputs": [
    {
     "name": "stdin",
     "output_type": "stream",
     "text": [
      "Please guess a number between 1 and 10:  5\n"
     ]
    },
    {
     "name": "stdout",
     "output_type": "stream",
     "text": [
      "Too high! Try again.\n"
     ]
    },
    {
     "name": "stdin",
     "output_type": "stream",
     "text": [
      "Please guess a number between 1 and 10:  10\n"
     ]
    },
    {
     "name": "stdout",
     "output_type": "stream",
     "text": [
      "Too high! Try again.\n"
     ]
    },
    {
     "name": "stdin",
     "output_type": "stream",
     "text": [
      "Please guess a number between 1 and 10:  11\n"
     ]
    },
    {
     "name": "stdout",
     "output_type": "stream",
     "text": [
      "Too high! Try again.\n"
     ]
    },
    {
     "name": "stdin",
     "output_type": "stream",
     "text": [
      "Please guess a number between 1 and 10:  2\n"
     ]
    },
    {
     "name": "stdout",
     "output_type": "stream",
     "text": [
      "Too high! Try again.\n"
     ]
    },
    {
     "name": "stdin",
     "output_type": "stream",
     "text": [
      "Please guess a number between 1 and 10:  3\n"
     ]
    },
    {
     "name": "stdout",
     "output_type": "stream",
     "text": [
      "Too high! Try again.\n"
     ]
    },
    {
     "name": "stdin",
     "output_type": "stream",
     "text": [
      "Please guess a number between 1 and 10:  4\n"
     ]
    },
    {
     "name": "stdout",
     "output_type": "stream",
     "text": [
      "Too high! Try again.\n"
     ]
    },
    {
     "name": "stdin",
     "output_type": "stream",
     "text": [
      "Please guess a number between 1 and 10:  1\n"
     ]
    },
    {
     "name": "stdout",
     "output_type": "stream",
     "text": [
      "Congratulations! You guessed the correct number.\n"
     ]
    }
   ],
   "source": [
    "import random\n",
    "\n",
    "# Generate a random number between 1 and 10\n",
    "x = random.randint(1, 10)\n",
    "\n",
    "# Prompt the user to guess\n",
    "while True:\n",
    "    number = input(\"Please guess a number between 1 and 10: \")\n",
    "\n",
    "    # Ensure input is valid\n",
    "    if not number.isdigit():\n",
    "        print(\"Invalid input. Please enter a valid number.\")\n",
    "        continue\n",
    "\n",
    "    guess = int(number)\n",
    "\n",
    "    # Check if the guess is correct\n",
    "    if guess == x:\n",
    "        print(\"Congratulations! You guessed the correct number.\")\n",
    "        break\n",
    "    elif guess < x:\n",
    "        print(\"Too low! Try again.\")\n",
    "    else:\n",
    "        print(\"Too high! Try again.\")\n"
   ]
  },
  {
   "cell_type": "code",
   "execution_count": 1,
   "id": "0bdf15d2-0bb3-46d1-b211-340af42e37d6",
   "metadata": {},
   "outputs": [
    {
     "name": "stdout",
     "output_type": "stream",
     "text": [
      "I've selected a number between 1 and 10.\n",
      "You have 5 guesses left\n"
     ]
    },
    {
     "name": "stdin",
     "output_type": "stream",
     "text": [
      "Enter your guess:  1\n"
     ]
    },
    {
     "name": "stdout",
     "output_type": "stream",
     "text": [
      "Nope, That is not it...\n",
      "You lose, you're out of turns!\n",
      "You have 4 guesses left\n"
     ]
    },
    {
     "name": "stdin",
     "output_type": "stream",
     "text": [
      "Enter your guess:  3\n"
     ]
    },
    {
     "name": "stdout",
     "output_type": "stream",
     "text": [
      "Nope, That is not it...\n",
      "You lose, you're out of turns!\n",
      "You have 3 guesses left\n"
     ]
    },
    {
     "name": "stdin",
     "output_type": "stream",
     "text": [
      "Enter your guess:  2\n"
     ]
    },
    {
     "name": "stdout",
     "output_type": "stream",
     "text": [
      "Nope, That is not it...\n",
      "You lose, you're out of turns!\n",
      "You have 2 guesses left\n"
     ]
    },
    {
     "name": "stdin",
     "output_type": "stream",
     "text": [
      "Enter your guess:  4\n"
     ]
    },
    {
     "name": "stdout",
     "output_type": "stream",
     "text": [
      "Nope, That is not it...\n",
      "You lose, you're out of turns!\n",
      "You have 1 guesses left\n"
     ]
    },
    {
     "name": "stdin",
     "output_type": "stream",
     "text": [
      "Enter your guess:  5\n"
     ]
    },
    {
     "name": "stdout",
     "output_type": "stream",
     "text": [
      "Nope, That is not it...\n",
      "You lose, you're out of turns!\n"
     ]
    }
   ],
   "source": [
    "import random \n",
    "select_number=random.randint(1,10)\n",
    "guess_is_correct=False #Usamos esta condicion para el While Loop\n",
    "\n",
    "\n",
    "\n",
    "guesses_remaining=5\n",
    "\n",
    "print(\"I've selected a number between 1 and 10.\")\n",
    "#print(select_number) Ya no verias el numero seleccionado\n",
    "\n",
    "while not guess_is_correct and guesses_remaining>0:\n",
    "    print(f\"You have {guesses_remaining} guesses left\")\n",
    "    guess_str=input(\"Enter your guess: \")\n",
    "    guess= int(guess_str)\n",
    "    guesses_remaining-=1 #Reducimos en 1 cada vez que el user trata de adivinar\n",
    "\n",
    "    if guess==select_number:\n",
    "        print(\"Congratulations, you succesfully guessed the number!\")\n",
    "        guess_is_correct=True\n",
    "    else:\n",
    "        print(\"Nope, That is not it...\")\n",
    "    if not guess_is_correct:\n",
    "        print(\"You lose, you're out of turns!\")\n"
   ]
  },
  {
   "cell_type": "code",
   "execution_count": 8,
   "id": "f44ec45a-b8cd-42fe-a1e8-28da190b84a4",
   "metadata": {},
   "outputs": [
    {
     "name": "stdout",
     "output_type": "stream",
     "text": [
      "The first element is 1\n",
      "The last element is 10\n",
      "the length of the list is 10\n",
      "[1, 2, 3, 4, 5, 6, 7, 8, 9, 10]\n",
      "The sum of all the numbers is:55\n"
     ]
    }
   ],
   "source": [
    "my_list = [1,2,3,4,5,6,7,8,9,10]\n",
    "\n",
    "print(f\"The first element is {my_list[0]}\")\n",
    "print(f\"The last element is {my_list[-1]}\")\n",
    "print(f\"the length of the list is {len(my_list)}\")\n",
    "\n",
    "print(my_list)\n",
    "\n",
    "total=0\n",
    "\n",
    "for x in my_list:\n",
    "    total+=x\n",
    "print(f\"The sum of all the numbers is:{total}\")"
   ]
  },
  {
   "cell_type": "code",
   "execution_count": 9,
   "id": "1d20d9fc-69b1-40e4-9f01-c2ef91f00bf6",
   "metadata": {},
   "outputs": [
    {
     "name": "stdout",
     "output_type": "stream",
     "text": [
      "Bob\n",
      "name -> {'first': 'Bob', 'last': 'Wassell'}\n",
      "age -> 123\n",
      "hair_color -> Brown\n",
      "coffee -> True\n",
      "name -> {'first': 'Bob', 'last': 'Wassell'}\n",
      "age -> 123\n",
      "hair_color -> Brown\n",
      "coffee -> True\n"
     ]
    }
   ],
   "source": [
    "person = {\n",
    "    \"name\": {\n",
    "        \"first\": \"Shaun\",\n",
    "        \"last\": \"Wassell\",\n",
    "    },\n",
    "    \"age\": 123,\n",
    "    \"hair_color\": \"Brown\",\n",
    "    \"coffee\": True,\n",
    "}\n",
    "\n",
    "person[\"name\"][\"first\"] = \"Bob\"\n",
    "\n",
    "print(person[\"name\"][\"first\"])\n",
    "\n",
    "for key, value in person.items():\n",
    "  print(f\"{key} -> {value}\")\n",
    "\n",
    "for key in person:\n",
    "  print(f\"{key} -> {person[key]}\")\n"
   ]
  },
  {
   "cell_type": "code",
   "execution_count": null,
   "id": "5984afd3-5a67-46d3-bdb3-b757524a01e3",
   "metadata": {},
   "outputs": [],
   "source": [
    "notes=[]\n",
    "\n",
    "def create_note():\n",
    "    note_text=input(\"Enter the text for the note: \")\n",
    "    notes.append(note_text)\n",
    "    print('Succesfully added note!')\n",
    "\n",
    "def edit_note():\n",
    "    note_index=int(input(\"Please enter the index of the note to edit: \"))\n",
    "    if note_index>len(notes)-1:\n",
    "        print(\"Invalid index,the list is not that long\")\n",
    "    new_text=input('Enter the new text for the note: ')\n",
    "    notes[note_index]=new_text\n",
    "    print('Successfully edited note!')\n",
    "\n",
    "def delete_note():\n",
    "    note_index=int(input(\"Please enter the index of the note to delete: \"))\n",
    "    if note_text > len(notes)-1:\n",
    "        print(\"Invalid index, the list is not that long\")\n",
    "        del notes[note_index]\n",
    "        print(\"Succesful deleted note\")\n",
    "\n",
    "while True:\n",
    "    if len(notes)>0:\n",
    "        print(\"Here are all your notes:\")\n",
    "        for note in notes:\n",
    "            print(note)\n",
    "\n",
    "print(\"What would you like to do?\")\n",
    "print(\"1. Create\")\n",
    "print(\"2. Edit\")\n",
    "print(\"3. Delete\")\n",
    "print(\"4. Exit\")\n",
    "selected_option=input(\"Please enter your selection: \")\n",
    "\n",
    "if selected_option=='1':\n",
    " create_note()\n",
    "elif selected_option=='2':\n",
    " edit_note()\n",
    "elif selected_option=='3':\n",
    " delete_note()\n",
    "elif selected_option=='4':\n",
    " print('Existing...')\n",
    " break\n",
    "else:\n",
    " print('That is not a valid option!')"
   ]
  },
  {
   "cell_type": "code",
   "execution_count": null,
   "id": "ad8810bc-52b6-4502-b136-9477ba509ad2",
   "metadata": {},
   "outputs": [
    {
     "name": "stdout",
     "output_type": "stream",
     "text": [
      "What would you like to do?\n",
      "1. Create\n",
      "2. Edit\n",
      "3. Delete\n",
      "4. Exit\n"
     ]
    },
    {
     "name": "stdin",
     "output_type": "stream",
     "text": [
      "Please enter your selection:  1\n",
      "Enter the text for the note:  oscar\n"
     ]
    },
    {
     "name": "stdout",
     "output_type": "stream",
     "text": [
      "Successfully added note!\n",
      "Here are all your notes:\n",
      "0: oscar\n",
      "What would you like to do?\n",
      "1. Create\n",
      "2. Edit\n",
      "3. Delete\n",
      "4. Exit\n"
     ]
    },
    {
     "name": "stdin",
     "output_type": "stream",
     "text": [
      "Please enter your selection:  3\n",
      "Please enter the index of the note to delete:  0\n"
     ]
    },
    {
     "name": "stdout",
     "output_type": "stream",
     "text": [
      "Successfully deleted note!\n",
      "What would you like to do?\n",
      "1. Create\n",
      "2. Edit\n",
      "3. Delete\n",
      "4. Exit\n"
     ]
    }
   ],
   "source": [
    "notes = []\n",
    "\n",
    "\n",
    "def create_note():\n",
    "  note_text = input(\"Enter the text for the note: \")\n",
    "  notes.append(note_text)\n",
    "  print('Successfully added note!')\n",
    "\n",
    "\n",
    "def edit_note():\n",
    "  note_index = int(input(\"Please enter the index of the note to edit: \"))\n",
    "  if note_index > len(notes) - 1:\n",
    "    print(\"Invalid index, the list is not that long\")\n",
    "  new_text = input(\"Enter the new text for the note: \")\n",
    "  notes[note_index] = new_text\n",
    "  print('Successfully edited note!')\n",
    "\n",
    "\n",
    "def delete_note():\n",
    "  note_index = int(input(\"Please enter the index of the note to delete: \"))\n",
    "  if note_index > len(notes) - 1:\n",
    "    print(\"Invalid index, the list is not that long\")\n",
    "  del notes[note_index]\n",
    "  print('Successfully deleted note!')\n",
    "\n",
    "\n",
    "while True:\n",
    "  if len(notes) > 0:\n",
    "    print(\"Here are all your notes:\")\n",
    "    for i, note in enumerate(notes):\n",
    "      print(f\"{i}: {note}\")\n",
    "\n",
    "  print('What would you like to do?')\n",
    "  print('1. Create')\n",
    "  print('2. Edit')\n",
    "  print('3. Delete')\n",
    "  print('4. Exit')\n",
    "  selected_option = input(\"Please enter your selection: \")\n",
    "\n",
    "  if selected_option == '1':\n",
    "    create_note()\n",
    "  elif selected_option == '2':\n",
    "    edit_note()\n",
    "  elif selected_option == '3':\n",
    "    delete_note()\n",
    "  elif selected_option == '4':\n",
    "    print('Exiting...')\n",
    "    break\n",
    "  else:\n",
    "    print(\"That's not a valid option!\")"
   ]
  },
  {
   "cell_type": "code",
   "execution_count": null,
   "id": "e22ff270-f36e-40bb-b712-a363927d0a40",
   "metadata": {},
   "outputs": [],
   "source": []
  }
 ],
 "metadata": {
  "kernelspec": {
   "display_name": "Python 3 (ipykernel)",
   "language": "python",
   "name": "python3"
  },
  "language_info": {
   "codemirror_mode": {
    "name": "ipython",
    "version": 3
   },
   "file_extension": ".py",
   "mimetype": "text/x-python",
   "name": "python",
   "nbconvert_exporter": "python",
   "pygments_lexer": "ipython3",
   "version": "3.10.15"
  }
 },
 "nbformat": 4,
 "nbformat_minor": 5
}
